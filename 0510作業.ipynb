{
  "nbformat": 4,
  "nbformat_minor": 0,
  "metadata": {
    "colab": {
      "provenance": []
    },
    "kernelspec": {
      "name": "python3",
      "display_name": "Python 3"
    },
    "language_info": {
      "name": "python"
    }
  },
  "cells": [
    {
      "cell_type": "code",
      "execution_count": 28,
      "metadata": {
        "colab": {
          "base_uri": "https://localhost:8080/"
        },
        "id": "b6WWfw6xmomd",
        "outputId": "5a3a1fc2-086a-43c7-d625-bb8c6c95ce86"
      },
      "outputs": [
        {
          "output_type": "stream",
          "name": "stdout",
          "text": [
            "將[33, 67, 8, 13, 54, 119, 3, 84, 25, 41]由小到大進行排序\n",
            "結果如下：\n",
            "[3, 8, 13, 25, 33, 41, 54, 67, 84, 119]\n"
          ]
        }
      ],
      "source": [
        "def QuickSort(array, start, end):\n",
        "  if start >= end:  #陣列長度為一或空則終止\n",
        "        return\n",
        "  pivot = array[start]  #選擇最開始元素作為基準點\n",
        "  left = start  #在最左邊指定左指標\n",
        "  right = end  #在最右邊指定右指標\n",
        "  while left <= right:\n",
        "    while left <= right and array[left] <= pivot:  #左指標向右移動，直到數值比基準點大或與右指標相撞\n",
        "      left += 1\n",
        "    while left <= right and array[right] >= pivot:  #右指標向左移動，直到數值比基準點小或與左指標相撞\n",
        "      right -= 1\n",
        "    if left < right:\n",
        "      array[left], array[right] = array[right], array[left]  #交換左指標與右指標\n",
        "  array[start], array[right] = array[right], array[start]  #交換右指標與基準點的位置\n",
        "  QuickSort(array, start, right - 1)  #處理左子陣列\n",
        "  QuickSort(array, right + 1, end)  #處理右子陣列\n",
        "array = [33, 67, 8, 13, 54, 119, 3, 84, 25, 41]\n",
        "QuickSort(array, 0, len(array) - 1)\n",
        "print(\"將[33, 67, 8, 13, 54, 119, 3, 84, 25, 41]由小到大進行排序\")\n",
        "print(\"結果如下：\")\n",
        "print(array)"
      ]
    }
  ]
}